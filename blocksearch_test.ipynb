{
 "cells": [
  {
   "cell_type": "code",
   "execution_count": 7,
   "id": "b058b4fb",
   "metadata": {},
   "outputs": [],
   "source": [
    "from pathlib import Path\n",
    "import numpy as np"
   ]
  },
  {
   "cell_type": "code",
   "execution_count": 3,
   "id": "3d499950",
   "metadata": {},
   "outputs": [
    {
     "name": "stdout",
     "output_type": "stream",
     "text": [
      "[PosixPath('result/cycle_resnet50_summary.txt'), PosixPath('result/cycle_t_summary.txt'), PosixPath('result/cycle_tiny_bert_summary.txt')]\n"
     ]
    }
   ],
   "source": [
    "summary_path = Path('./result/')\n",
    "\n",
    "print(list(summary_path.glob('*')))"
   ]
  },
  {
   "cell_type": "code",
   "execution_count": 4,
   "id": "e3457a52",
   "metadata": {},
   "outputs": [],
   "source": [
    "def makeblock(argparse, n): \n",
    "    tmp = np.array(argparse[:-1],dtype=np.int64)\n",
    "    tmp1 = np.array(np.array_split(tmp,n),dtype=object)\n",
    "    ret = np.array([],dtype=np.int64)\n",
    "    for i in tmp1:\n",
    "        ret = np.append(ret,np.sum(i,dtype=np.int64))\n",
    "    return ret"
   ]
  },
  {
   "cell_type": "code",
   "execution_count": 12,
   "id": "64d0b14a",
   "metadata": {},
   "outputs": [],
   "source": [
    "name=[]\n",
    "block = []\n",
    "graph = dict()\n",
    "    \n",
    "for file in summary_path.glob('*'):\n",
    "    f= open(file,'r')\n",
    "    data = f.readlines()\n",
    "    count = 0\n",
    "    for T in data:\n",
    "        T = T.replace(\"\\n\", \"\")\n",
    "        L = T.split(' ')\n",
    "        if L[0] == 'Systolic':\n",
    "            count+=1\n",
    "        if L[0] == 'DNN':\n",
    "            if L[-1][:-12] not in name:\n",
    "                name.append(L[-1][:-12])\n",
    "        if len(T.split(' ')) > 9:\n",
    "            block.append(makeblock(T.split(' '), 6))"
   ]
  },
  {
   "cell_type": "code",
   "execution_count": 14,
   "id": "04fc00ac",
   "metadata": {},
   "outputs": [
    {
     "name": "stdout",
     "output_type": "stream",
     "text": [
      "['resnet50', 't', 'tiny_bert']\n"
     ]
    }
   ],
   "source": [
    "print(name)"
   ]
  },
  {
   "cell_type": "code",
   "execution_count": 10,
   "id": "9a3a17fb",
   "metadata": {},
   "outputs": [],
   "source": [
    "f= open('./summary.txt','r')\n",
    "data = f.readlines()\n",
    "count = 0\n",
    "name=[]\n",
    "block = []\n",
    "for T in data:\n",
    "    T = T.replace(\"\\n\", \"\")\n",
    "    L = T.split(' ')\n",
    "    if L[0] == 'Systolic':\n",
    "        count+=1\n",
    "    if L[0] == 'DNN':\n",
    "        if L[-1][:-12] not in name:\n",
    "            name.append(L[-1][:-12])\n",
    "    if len(T.split(' ')) > 9:\n",
    "        block.append(makeblock(T.split(' '), 6))"
   ]
  },
  {
   "cell_type": "code",
   "execution_count": 15,
   "id": "f6829914",
   "metadata": {},
   "outputs": [
    {
     "name": "stdout",
     "output_type": "stream",
     "text": [
      "['resnet50', 't', 'tiny_bert']\n"
     ]
    }
   ],
   "source": [
    "print(name)"
   ]
  },
  {
   "cell_type": "code",
   "execution_count": 11,
   "id": "07b813d0",
   "metadata": {},
   "outputs": [
    {
     "data": {
      "text/plain": [
       "[array([2836257984,  337128624,   62015184,    9783144,    5470952,\n",
       "           2530496]),\n",
       " array([17372928, 16633344, 16633344, 16633344, 16633344, 15904116]),\n",
       " array([4729480000, 1207817072,  256889360,   47359480,   40592584,\n",
       "           9341904]),\n",
       " array([1418128992,  163534364,   15579060,    2483418,    1413430,\n",
       "            673904]),\n",
       " array([4689984, 4498944, 4498944, 4498944, 4498944, 4313466]),\n",
       " array([2049838560,  302581468,   64598660,   12053118,   10342640,\n",
       "           2538648]),\n",
       " array([709365552,  81867534,   7789530,    651957,    380875,    190112]),\n",
       " array([2832672, 2724864, 2724864, 2724864, 2724864, 2620221]),\n",
       " array([946695680, 102043774,  18898876,   3179223,   2732372,    739932])]"
      ]
     },
     "execution_count": 11,
     "metadata": {},
     "output_type": "execute_result"
    }
   ],
   "source": [
    "block"
   ]
  },
  {
   "cell_type": "code",
   "execution_count": null,
   "id": "a7e2a44c",
   "metadata": {},
   "outputs": [],
   "source": []
  }
 ],
 "metadata": {
  "kernelspec": {
   "display_name": "Python 3 (ipykernel)",
   "language": "python",
   "name": "python3"
  },
  "language_info": {
   "codemirror_mode": {
    "name": "ipython",
    "version": 3
   },
   "file_extension": ".py",
   "mimetype": "text/x-python",
   "name": "python",
   "nbconvert_exporter": "python",
   "pygments_lexer": "ipython3",
   "version": "3.8.13"
  }
 },
 "nbformat": 4,
 "nbformat_minor": 5
}
