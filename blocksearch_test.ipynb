{
 "cells": [
  {
   "cell_type": "code",
   "execution_count": 1,
   "id": "b058b4fb",
   "metadata": {},
   "outputs": [],
   "source": [
    "from pathlib import Path\n",
    "import numpy as np\n",
    "import os"
   ]
  },
  {
   "cell_type": "code",
   "execution_count": 3,
   "id": "9b1b7f96",
   "metadata": {},
   "outputs": [],
   "source": [
    "os.chdir('./computer_architecture/')"
   ]
  },
  {
   "cell_type": "code",
   "execution_count": 4,
   "id": "3d499950",
   "metadata": {},
   "outputs": [
    {
     "name": "stdout",
     "output_type": "stream",
     "text": [
      "[PosixPath('result/cycle_tiny_bert_summary.txt'), PosixPath('result/cycle_t_summary.txt'), PosixPath('result/cycle_resnet50_summary.txt')]\n"
     ]
    }
   ],
   "source": [
    "summary_path = Path('./result/')\n",
    "\n",
    "print(list(summary_path.glob('*')))"
   ]
  },
  {
   "cell_type": "code",
   "execution_count": 5,
   "id": "e3457a52",
   "metadata": {},
   "outputs": [],
   "source": [
    "def makeblock(argparse, n): \n",
    "    tmp = np.array(argparse[:-1],dtype=np.int64)\n",
    "    tmp1 = np.array(np.array_split(tmp,n),dtype=object)\n",
    "    ret = np.array([],dtype=np.int64)\n",
    "    for i in tmp1:\n",
    "        ret = np.append(ret,np.sum(i,dtype=np.int64))\n",
    "    return ret"
   ]
  },
  {
   "cell_type": "code",
   "execution_count": 6,
   "id": "64d0b14a",
   "metadata": {},
   "outputs": [],
   "source": [
    "name=[]\n",
    "block = []\n",
    "graph = dict()\n",
    "    \n",
    "for file in summary_path.glob('*'):\n",
    "    f= open(file,'r')\n",
    "    data = f.readlines()\n",
    "    count = 0\n",
    "    for T in data:\n",
    "        T = T.replace(\"\\n\", \"\")\n",
    "        L = T.split(' ')\n",
    "        if L[0] == 'Systolic':\n",
    "            count+=1\n",
    "        if L[0] == 'DNN':\n",
    "            if L[-1][:-12] not in name:\n",
    "                name.append(L[-1][:-12])\n",
    "        if len(T.split(' ')) > 9:\n",
    "            block.append(makeblock(T.split(' '), 6))"
   ]
  },
  {
   "cell_type": "code",
   "execution_count": 7,
   "id": "04fc00ac",
   "metadata": {},
   "outputs": [
    {
     "name": "stdout",
     "output_type": "stream",
     "text": [
      "3\n"
     ]
    }
   ],
   "source": [
    "print(count)"
   ]
  },
  {
   "cell_type": "code",
   "execution_count": 8,
   "id": "9a3a17fb",
   "metadata": {},
   "outputs": [],
   "source": [
    "f= open('./summary.txt','r')\n",
    "data = f.readlines()\n",
    "count = 0\n",
    "name=[]\n",
    "block = []\n",
    "for T in data:\n",
    "    T = T.replace(\"\\n\", \"\")\n",
    "    L = T.split(' ')\n",
    "    if L[0] == 'Systolic':\n",
    "        count+=1\n",
    "    if L[0] == 'DNN':\n",
    "        if L[-1][:-12] not in name:\n",
    "            name.append(L[-1][:-12])\n",
    "    if len(T.split(' ')) > 9:\n",
    "        block.append(makeblock(T.split(' '), 6))"
   ]
  },
  {
   "cell_type": "code",
   "execution_count": 9,
   "id": "f6829914",
   "metadata": {},
   "outputs": [
    {
     "name": "stdout",
     "output_type": "stream",
     "text": [
      "['resnet18', 'bert', 'resnet50']\n"
     ]
    }
   ],
   "source": [
    "print(name)"
   ]
  },
  {
   "cell_type": "code",
   "execution_count": 10,
   "id": "07b813d0",
   "metadata": {},
   "outputs": [
    {
     "name": "stdout",
     "output_type": "stream",
     "text": [
      "3\n"
     ]
    }
   ],
   "source": [
    "print(count)"
   ]
  },
  {
   "cell_type": "code",
   "execution_count": null,
   "id": "a7e2a44c",
   "metadata": {},
   "outputs": [],
   "source": []
  }
 ],
 "metadata": {
  "kernelspec": {
   "display_name": "Python 3.8.13 ('base')",
   "language": "python",
   "name": "python3"
  },
  "language_info": {
   "codemirror_mode": {
    "name": "ipython",
    "version": 3
   },
   "file_extension": ".py",
   "mimetype": "text/x-python",
   "name": "python",
   "nbconvert_exporter": "python",
   "pygments_lexer": "ipython3",
   "version": "3.8.13"
  },
  "vscode": {
   "interpreter": {
    "hash": "d4d1e4263499bec80672ea0156c357c1ee493ec2b1c70f0acce89fc37c4a6abe"
   }
  }
 },
 "nbformat": 4,
 "nbformat_minor": 5
}
